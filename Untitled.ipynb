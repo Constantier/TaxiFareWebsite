{
 "cells": [
  {
   "cell_type": "code",
   "execution_count": 17,
   "id": "c4d0693b",
   "metadata": {
    "ExecuteTime": {
     "end_time": "2022-02-25T11:52:46.081695Z",
     "start_time": "2022-02-25T11:52:46.076314Z"
    }
   },
   "outputs": [],
   "source": [
    "from datetime import datetime\n",
    "import numpy as np"
   ]
  },
  {
   "cell_type": "code",
   "execution_count": 10,
   "id": "c3b0606c",
   "metadata": {
    "ExecuteTime": {
     "end_time": "2022-02-25T11:11:16.381089Z",
     "start_time": "2022-02-25T11:11:16.367328Z"
    }
   },
   "outputs": [
    {
     "data": {
      "text/plain": [
       "datetime.date(2022, 2, 25)"
      ]
     },
     "execution_count": 10,
     "metadata": {},
     "output_type": "execute_result"
    }
   ],
   "source": [
    "datetime.now().date().strf"
   ]
  },
  {
   "cell_type": "code",
   "execution_count": 16,
   "id": "641a51c7",
   "metadata": {
    "ExecuteTime": {
     "end_time": "2022-02-25T11:14:09.135587Z",
     "start_time": "2022-02-25T11:14:09.124161Z"
    }
   },
   "outputs": [
    {
     "data": {
      "text/plain": [
       "datetime.datetime(2022, 2, 25, 12, 14, 9, 126729)"
      ]
     },
     "execution_count": 16,
     "metadata": {},
     "output_type": "execute_result"
    }
   ],
   "source": [
    "datetime.today()"
   ]
  },
  {
   "cell_type": "code",
   "execution_count": 15,
   "id": "2c648953",
   "metadata": {
    "ExecuteTime": {
     "end_time": "2022-02-25T11:13:52.748625Z",
     "start_time": "2022-02-25T11:13:52.744082Z"
    }
   },
   "outputs": [
    {
     "data": {
      "text/plain": [
       "datetime.datetime(2022, 2, 25, 0, 0)"
      ]
     },
     "execution_count": 15,
     "metadata": {},
     "output_type": "execute_result"
    }
   ],
   "source": [
    "datetime.strptime(datetime.today().strftime(\"%d/%m/%y\"),\"%d/%m/%y\")"
   ]
  },
  {
   "cell_type": "code",
   "execution_count": 18,
   "id": "fb943abd",
   "metadata": {
    "ExecuteTime": {
     "end_time": "2022-02-25T11:52:47.939563Z",
     "start_time": "2022-02-25T11:52:47.923153Z"
    }
   },
   "outputs": [
    {
     "data": {
      "text/plain": [
       "array([[  37.7753754 , -122.3788749 ],\n",
       "       [  37.74651059, -122.38513097],\n",
       "       [  37.76294205, -122.42679315],\n",
       "       ...,\n",
       "       [  37.73590952, -122.4231123 ],\n",
       "       [  37.74860282, -122.38376033],\n",
       "       [  37.73693638, -122.38077653]])"
      ]
     },
     "execution_count": 18,
     "metadata": {},
     "output_type": "execute_result"
    }
   ],
   "source": [
    "np.random.randn(1000, 2) / [50, 50] + [37.76, -122.4]"
   ]
  },
  {
   "cell_type": "code",
   "execution_count": null,
   "id": "38d9335d",
   "metadata": {},
   "outputs": [],
   "source": []
  }
 ],
 "metadata": {
  "kernelspec": {
   "display_name": "Python 3 (ipykernel)",
   "language": "python",
   "name": "python3"
  },
  "language_info": {
   "codemirror_mode": {
    "name": "ipython",
    "version": 3
   },
   "file_extension": ".py",
   "mimetype": "text/x-python",
   "name": "python",
   "nbconvert_exporter": "python",
   "pygments_lexer": "ipython3",
   "version": "3.8.12"
  },
  "toc": {
   "base_numbering": 1,
   "nav_menu": {},
   "number_sections": true,
   "sideBar": true,
   "skip_h1_title": false,
   "title_cell": "Table of Contents",
   "title_sidebar": "Contents",
   "toc_cell": false,
   "toc_position": {},
   "toc_section_display": true,
   "toc_window_display": false
  },
  "varInspector": {
   "cols": {
    "lenName": 16,
    "lenType": 16,
    "lenVar": 40
   },
   "kernels_config": {
    "python": {
     "delete_cmd_postfix": "",
     "delete_cmd_prefix": "del ",
     "library": "var_list.py",
     "varRefreshCmd": "print(var_dic_list())"
    },
    "r": {
     "delete_cmd_postfix": ") ",
     "delete_cmd_prefix": "rm(",
     "library": "var_list.r",
     "varRefreshCmd": "cat(var_dic_list()) "
    }
   },
   "types_to_exclude": [
    "module",
    "function",
    "builtin_function_or_method",
    "instance",
    "_Feature"
   ],
   "window_display": false
  }
 },
 "nbformat": 4,
 "nbformat_minor": 5
}
